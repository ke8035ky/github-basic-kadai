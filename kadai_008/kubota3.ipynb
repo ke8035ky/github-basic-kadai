{
  "nbformat": 4,
  "nbformat_minor": 0,
  "metadata": {
    "colab": {
      "provenance": []
    },
    "kernelspec": {
      "name": "python3",
      "display_name": "Python 3"
    },
    "language_info": {
      "name": "python"
    }
  },
  "cells": [
    {
      "cell_type": "code",
      "source": [
        "import random\n",
        "ver = random.randint(0,100)\n",
        "\n",
        "print(ver)\n",
        "\n",
        "if ver % 3 == 0 and ver % 5 != 0:\n",
        "  print(\"Fizz\")\n",
        "elif ver % 5 == 0 and ver % 3 != 0:\n",
        "  print(\"Buzz\")\n",
        "elif ver % 3 == 0 and ver % 5 == 0:\n",
        "  print(\"FizzBuzz\")\n",
        "else:\n",
        "  print(ver)\n"
      ],
      "metadata": {
        "colab": {
          "base_uri": "https://localhost:8080/"
        },
        "id": "ACS_6rtfV0Lo",
        "outputId": "8bdc0cdd-b0c3-485f-bad6-f7f2686f23a7"
      },
      "execution_count": 96,
      "outputs": [
        {
          "output_type": "stream",
          "name": "stdout",
          "text": [
            "60\n",
            "FizzBuzz\n"
          ]
        }
      ]
    }
  ]
}