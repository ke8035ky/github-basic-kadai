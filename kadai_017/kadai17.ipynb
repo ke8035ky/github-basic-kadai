{
  "nbformat": 4,
  "nbformat_minor": 0,
  "metadata": {
    "colab": {
      "provenance": []
    },
    "kernelspec": {
      "name": "python3",
      "display_name": "Python 3"
    },
    "language_info": {
      "name": "python"
    }
  },
  "cells": [
    {
      "cell_type": "code",
      "execution_count": 2,
      "metadata": {
        "colab": {
          "base_uri": "https://localhost:8080/"
        },
        "id": "0jDgMF3lOGnG",
        "outputId": "5b8dd6a3-a182-4d04-aadb-e3a77e0a9ddd"
      },
      "outputs": [
        {
          "output_type": "stream",
          "name": "stdout",
          "text": [
            "330.0\n"
          ]
        }
      ],
      "source": [
        "# @title 014\n",
        "price1 = 100\n",
        "price2 = 200\n",
        "tax = 1.1\n",
        "\n",
        "def total():\n",
        "    return price1 + price2\n",
        "\n",
        "print (total() * tax)"
      ]
    },
    {
      "cell_type": "code",
      "source": [
        "# @title 015\n",
        "\n",
        "class Human:\n",
        "    def __init__(self, name, age):\n",
        "        self.name = name\n",
        "        self.age = age\n",
        "\n",
        "    def printinfo(self):\n",
        "      print(self.name,self.age)\n",
        "\n",
        "taro = Human(\"太郎\", 20)\n",
        "taro.printinfo()"
      ],
      "metadata": {
        "colab": {
          "base_uri": "https://localhost:8080/"
        },
        "id": "XbBxn2Y7PpkE",
        "outputId": "4fee9bb8-9e1d-4f21-cd2a-71ffec2415e8"
      },
      "execution_count": 3,
      "outputs": [
        {
          "output_type": "stream",
          "name": "stdout",
          "text": [
            "太郎 20\n"
          ]
        }
      ]
    },
    {
      "cell_type": "code",
      "source": [
        "# @title 017\n",
        "\n",
        "class Human:\n",
        "    def __init__(self, name, age):\n",
        "        self.name = name\n",
        "        self.age = age\n",
        "\n",
        "    def check_adult(self):\n",
        "        if self.age >= 20:\n",
        "            print(self.name + \"は\" + \"大人です\")\n",
        "        else:\n",
        "            print(self.name + \"は\" +\"大人ではありません\")\n",
        "\n",
        "taro = Human(\"太郎\", 20)\n",
        "hanako = Human(\"花子\", 15)\n",
        "\n",
        "#user_names = [taro.name, hanako.name]\n",
        "#user_ages = [taro.age, hanako.age]\n",
        "\n",
        "users = [taro, hanako]\n",
        "\n",
        "for user in users:\n",
        "    user.check_adult()"
      ],
      "metadata": {
        "colab": {
          "base_uri": "https://localhost:8080/"
        },
        "id": "K-V516VjVxcf",
        "outputId": "9cc3114b-a20f-4b0d-c121-9a0029961a07"
      },
      "execution_count": 17,
      "outputs": [
        {
          "output_type": "stream",
          "name": "stdout",
          "text": [
            "太郎は大人です\n",
            "花子は大人ではありません\n"
          ]
        }
      ]
    }
  ]
}