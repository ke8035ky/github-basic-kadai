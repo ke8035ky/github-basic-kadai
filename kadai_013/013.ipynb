{
  "nbformat": 4,
  "nbformat_minor": 0,
  "metadata": {
    "colab": {
      "provenance": []
    },
    "kernelspec": {
      "name": "python3",
      "display_name": "Python 3"
    },
    "language_info": {
      "name": "python"
    }
  },
  "cells": [
    {
      "cell_type": "code",
      "execution_count": 3,
      "metadata": {
        "colab": {
          "base_uri": "https://localhost:8080/"
        },
        "id": "sQRiKZ2kLc78",
        "outputId": "7b60c2df-3c61-40e9-f80c-7c22cfa6923c"
      },
      "outputs": [
        {
          "output_type": "stream",
          "name": "stdout",
          "text": [
            "121.0\n"
          ]
        }
      ],
      "source": [
        "def add_tax(price,zeiritsu):\n",
        "  add_tax = price + price*zeiritsu/100\n",
        "  return add_tax\n",
        "print(add_tax(110,10))"
      ]
    }
  ]
}